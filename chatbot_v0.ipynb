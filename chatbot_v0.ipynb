{
 "cells": [
  {
   "cell_type": "code",
   "execution_count": 190,
   "metadata": {},
   "outputs": [],
   "source": [
    "import pandas as pd\n",
    "import numpy as np\n",
    "\n",
    "df = pd.read_excel('/Users/andreavento/Downloads/dataframe_scaped2.xlsx')"
   ]
  },
  {
   "cell_type": "code",
   "execution_count": 191,
   "metadata": {},
   "outputs": [
    {
     "name": "stdout",
     "output_type": "stream",
     "text": [
      "{'temperature_rating': 0.09230769230769231, 'Cost of Living Index': 0.08076923076923076, 'Opportunity to make friends (proportion of youth aged 15-29) ': 0.06923076923076923, 'Personal Safety': 0.057692307692307696}\n"
     ]
    }
   ],
   "source": [
    "def get_user_preferences(test = 0, importance_of_weights = 0.3):\n",
    "\n",
    "    total = 0\n",
    "\n",
    "    if test == 0:\n",
    "        print(\"Please rate the importance of the following factors from 1 (least important) to 10 (most important). Each factor has a corresponding number from 1 to 10.\")\n",
    "        factors = {\n",
    "            'temperature_rating': \"Climate: How important is a favorable climate to you?\",\n",
    "            'Cost of Living Index': \"Cost Index (the lower, the better): How important is affordability?\",\n",
    "            'Opportunity to make friends (proportion of youth aged 15-29) ': \"Opportunity of making friends: How important are social opportunities?\",\n",
    "            'Personal Safety': \"Safety: How important is the safety of the campus and surrounding area?\"\n",
    "        }\n",
    "        weights = {}\n",
    "        \n",
    "        \n",
    "        for factor, message in factors.items():\n",
    "            print(f\"\\n{message}\")\n",
    "            print(\"1: Not important, 2: Slightly important, 3: Moderately important, 4: Important, 5: Very important, 6-10: Increasingly critical\")\n",
    "            while True:\n",
    "                try:\n",
    "                    user_input = int(input(\"Select your importance rating (1-10): \"))\n",
    "                    total += user_input\n",
    "                    if 1 <= user_input <= 10:\n",
    "                        weights[factor] = user_input\n",
    "                        break\n",
    "                    else:\n",
    "                        print(\"Please select a number between 1 and 10.\")\n",
    "                except ValueError:\n",
    "                    print(\"Invalid input. Please enter a valid number.\")\n",
    "        for factor in weights:\n",
    "            weights[factor] = (weights[factor] / total) * importance_of_weights\n",
    "            return weights\n",
    "        print(weights)\n",
    "\n",
    "        return weights\n",
    "    else:\n",
    "        weights = {'temperature_rating': 8, 'Cost of Living Index': 7, \n",
    "                   'Opportunity to make friends (proportion of youth aged 15-29) ': 6, 'Personal Safety': 5}\n",
    "        total = sum(weights.values())\n",
    "        for factor in weights:\n",
    "            weights[factor] = (weights[factor] / total) * importance_of_weights\n",
    "            \n",
    "        print(weights)\n",
    "        \n",
    "        return weights\n",
    "\n",
    "weights = get_user_preferences(test = 1, importance_of_weights=0.3)"
   ]
  },
  {
   "cell_type": "code",
   "execution_count": 192,
   "metadata": {},
   "outputs": [],
   "source": [
    "def normalize_column(column):\n",
    "    return (column - column.min()) / (column.max() - column.min())\n",
    "\n",
    "# Example columns to normalize\n",
    "numerical_columns = ['Personal Safety', 'Opportunity to make friends (proportion of youth aged 15-29) ', 'temperature_rating', 'Cost of Living Index']\n",
    "for col in numerical_columns:\n",
    "    df[col + '_normalized'] = normalize_column(df[col])"
   ]
  },
  {
   "cell_type": "code",
   "execution_count": 193,
   "metadata": {},
   "outputs": [],
   "source": [
    "# calculate the partial scores of the numerical features\n",
    "\n",
    "def calculate_score(row, weights):\n",
    "    score = 0\n",
    "    for factor, weight in weights.items():\n",
    "        normalized_column = factor + '_normalized'  # Assumes normalized columns follow this naming pattern\n",
    "        score += row[normalized_column] * weight\n",
    "    return score\n",
    "\n",
    "df['score'] = df.apply(calculate_score, args=(weights,), axis=1)"
   ]
  },
  {
   "cell_type": "code",
   "execution_count": 194,
   "metadata": {},
   "outputs": [],
   "source": [
    "# get ranking preferences\n",
    "\n",
    "def get_ranking_preferences(test=1, importance_of_rankings=0.3):\n",
    "    \n",
    "    if test == 0:\n",
    "        print(\"Please rate the importance of the following university rankings from 1 (least important) to 10 (most important). Each ranking type has a corresponding number from 1 to 10.\")\n",
    "        ranking_types = {\n",
    "            'Rankings for CS.pdf': \"Ranking for Computer Science: How important is the CS ranking of the university?\",\n",
    "            'Rankings for Econ.pdf': \"Ranking for Economics: How important is the economics ranking of the university?\",\n",
    "            'Rankings for Stats.pdf': \"Rankings for Statistics: How important is the Statistics ranking?\",\n",
    "            'Rankings for DS.pdf': \"Rankings for Data Science: How important is the university's Data Science reputation?\", \n",
    "            'Rankings for Acc&Fin.pdf': \"Rankings for Accounting and Finance: How important is the university's reputation?\",\n",
    "            'Rankings for Business&Management.pdf': \"Rankings for Management: How important is the university's reputation?\",\n",
    "            'Rankings for SocialPolicy.pdf': \"Rankings for Political Sciences: How important is the university's reputation?\",\n",
    "        }\n",
    "        weights = {}\n",
    "        total = 0\n",
    "\n",
    "        for rank_type, message in ranking_types.items():\n",
    "            print(f\"\\n{message}\")\n",
    "            print(\"1: Not important, 2: Slightly important, 3: Moderately important, 4: Important, 5: Very important, 6-10: Increasingly critical\")\n",
    "            while True:\n",
    "                try:\n",
    "                    user_input = int(input(\"Select your importance rating (1-10): \"))\n",
    "                    if 1 <= user_input <= 10:\n",
    "                        weights[rank_type] = user_input\n",
    "                        total += user_input\n",
    "                        break\n",
    "                    else:\n",
    "                        print(\"Please select a number between 1 and 10.\")\n",
    "                except ValueError:\n",
    "                    print(\"Invalid input. Please enter a valid number.\")\n",
    "                    \n",
    "        for rank_type in weights:\n",
    "            weights[rank_type] = (weights[rank_type] / total) * importance_of_rankings\n",
    "        return weights\n",
    "\n",
    "    else:\n",
    "        # Test scenario with predefined weights for rankings\n",
    "        weights = {'Rankings for CS.pdf': 10, 'Rankings for Econ.pdf': 8, 'Rankings for Stats.pdf': 6, 'Rankings for DS.pdf': 4, \n",
    "                   'Rankings for Acc&Fin.pdf': 7, 'Rankings for Business&Management.pdf': 9, 'Rankings for SocialPolicy.pdf': 3\n",
    "                   }\n",
    "        total = sum(weights.values())\n",
    "        for rank_type in weights:\n",
    "            weights[rank_type] = (weights[rank_type] / total) * importance_of_rankings\n",
    "        return weights\n",
    "    \n",
    "ranking_weights = get_ranking_preferences()"
   ]
  },
  {
   "cell_type": "code",
   "execution_count": 195,
   "metadata": {},
   "outputs": [],
   "source": [
    "max_ranking_boost = 0.02\n",
    "\n",
    "def parse_rank(rank):\n",
    "    \"\"\"Parse ranking, converting ranges to their mean value.\"\"\"\n",
    "    if pd.isna(rank):\n",
    "        return None\n",
    "    if isinstance(rank, str) and '-' in rank:\n",
    "        low, high = map(int, rank.split('-'))\n",
    "        return (low + high) / 2  # Return the average of the range\n",
    "    return int(rank)  # Convert rank to integer if not already\n",
    "\n",
    "def apply_ranking_boost(row, ranking_weights, max_rank_boost=0.02):\n",
    "    boost = 0\n",
    "    total_weight = sum(ranking_weights.values())\n",
    "    for rank_type, weight in ranking_weights.items():\n",
    "        rank_value = row.get(rank_type, None)\n",
    "        rank_position = parse_rank(rank_value)\n",
    "        if rank_position is not None:\n",
    "            # Normalize weight for this ranking\n",
    "            normalized_weight = (weight / total_weight) * max_rank_boost\n",
    "            # Calculate boost inversely proportional to rank position\n",
    "            boost += normalized_weight * (1 / np.log(rank_position + 1))  # Using log to decrease impact smoothly\n",
    "    # Directly add the boost to the existing score and return the updated score\n",
    "    return row['score'] + boost\n",
    "\n",
    "df['score'] = df.apply(apply_ranking_boost, axis=1, args=(ranking_weights, max_ranking_boost))"
   ]
  },
  {
   "attachments": {},
   "cell_type": "markdown",
   "metadata": {},
   "source": [
    "Now we turn our attention on the categorical variables, let's first capture user preferences"
   ]
  },
  {
   "cell_type": "code",
   "execution_count": 196,
   "metadata": {},
   "outputs": [],
   "source": [
    "def get_user_choices(data, category, max_choices=3):\n",
    "    \"\"\" Outputs the list of unique values for the user to choose their preferences using a numbered list. \"\"\"\n",
    "    unique_values = data[category].dropna().unique()\n",
    "    options = {str(i+1): val for i, val in enumerate(unique_values)}  # Create a dict with numbered keys\n",
    "    print(f\"Available {category}:\")\n",
    "    for k, v in options.items():\n",
    "        print(f\"{k}: {v}\")  # Display options as '1: English', '2: French', etc.\n",
    "\n",
    "    choices = []\n",
    "    print(f\"Select up to {max_choices} preferences for {category}, in order of importance. Type 'skip' to finish.\")\n",
    "    while len(choices) < max_choices:\n",
    "        choice_number = input(f\"Enter your choice number ({len(choices) + 1}/{max_choices}) or 'skip': \")\n",
    "        if choice_number.lower() == 'skip':\n",
    "            break\n",
    "        if choice_number in options and options[choice_number] not in choices:\n",
    "            choices.append(options[choice_number])  # Append the value corresponding to the chosen number\n",
    "        else:\n",
    "            print(\"Invalid choice or already selected. Please try again.\")\n",
    "    \n",
    "    if choices:\n",
    "        print(f\"You have chosen the following {category}: {choices}\")\n",
    "        # Ask for importance rating if any choices were made\n",
    "        print(\"How important is the category '{category}' to you on a scale from 1 (least important) to 10 (most important)? \")\n",
    "        importance = input(f\"How important is the category '{category}' to you on a scale from 1 (least important) to 10 (most important)? \")\n",
    "        try:\n",
    "            importance = int(importance)\n",
    "            if not 1 <= importance <= 10:\n",
    "                print(\"Please enter a number between 1 and 10.\")\n",
    "                importance = None\n",
    "        except ValueError:\n",
    "            print(\"Invalid input. Please enter a number.\")\n",
    "            importance = None\n",
    "    else:\n",
    "        print(f'No preferences selected for {category}.')\n",
    "        importance = None  # Set importance to None if no preferences are selected\n",
    "\n",
    "    return choices, importance"
   ]
  },
  {
   "cell_type": "code",
   "execution_count": 197,
   "metadata": {},
   "outputs": [
    {
     "name": "stdout",
     "output_type": "stream",
     "text": [
      "Available Language:\n",
      "1: English\n",
      "2: French\n",
      "3: German\n",
      "4: Spanish\n",
      "5: English and Portuguese\n",
      "6: Portuguese\n",
      "Select up to 3 preferences for Language, in order of importance. Type 'skip' to finish.\n",
      "Invalid choice or already selected. Please try again.\n",
      "Invalid choice or already selected. Please try again.\n",
      "Invalid choice or already selected. Please try again.\n",
      "Invalid choice or already selected. Please try again.\n",
      "Invalid choice or already selected. Please try again.\n",
      "Invalid choice or already selected. Please try again.\n",
      "Invalid choice or already selected. Please try again.\n",
      "No preferences selected for Language.\n"
     ]
    }
   ],
   "source": [
    "# Collect preferences of language\n",
    "language_choices, language_importance = get_user_choices(df, 'Language')"
   ]
  },
  {
   "cell_type": "code",
   "execution_count": 198,
   "metadata": {},
   "outputs": [
    {
     "name": "stdout",
     "output_type": "stream",
     "text": [
      "Available Region:\n",
      "1: Europe\n",
      "2: Middle East & North Africa\n",
      "3: North America\n",
      "4: Latin America & Caribbean\n",
      "5: East Asia & Pacific\n",
      "6: Sub-Saharan Africa\n",
      "Select up to 3 preferences for Region, in order of importance. Type 'skip' to finish.\n",
      "No preferences selected for Region.\n"
     ]
    }
   ],
   "source": [
    "# Collect preferences of region\n",
    "region_choices, region_importance = get_user_choices(df, 'Region')"
   ]
  },
  {
   "cell_type": "code",
   "execution_count": 199,
   "metadata": {},
   "outputs": [
    {
     "name": "stdout",
     "output_type": "stream",
     "text": [
      "Available Climate:\n",
      "1: Marine west coast climate\n",
      "2: Humid continental climate, no dry season, warm summer\n",
      "3: Subarctic climate, no dry season, cool summer\n",
      "4: Mediterranean climate, dry summer\n",
      "5: Mediterranean climate\n",
      "6: Hot desert climate\n",
      "7: Humid continental climate, hot summer, no dry season\n",
      "8: Humid subtropical climate, hot summer\n",
      "9: Cold semi-arid climate\n",
      "10: Tropical monsoon climate\n",
      "11: Tropical savanna climate\n",
      "12: Temperate oceanic climate, dry winter\n",
      "13: Hot semi-arid climate\n",
      "14: Humid subtropical climate, dry winter\n",
      "15: Humid continental climate, hot summer\n",
      "16: Tropical rainforest climate\n",
      "Select up to 3 preferences for Climate, in order of importance. Type 'skip' to finish.\n",
      "No preferences selected for Climate.\n"
     ]
    }
   ],
   "source": [
    "# Collect preferences of Climate\n",
    "climate_choices, climate_importance = get_user_choices(df, 'Climate')"
   ]
  },
  {
   "cell_type": "code",
   "execution_count": 200,
   "metadata": {},
   "outputs": [
    {
     "data": {
      "text/plain": [
       "([], None, [], None, [], None)"
      ]
     },
     "execution_count": 200,
     "metadata": {},
     "output_type": "execute_result"
    }
   ],
   "source": [
    "language_choices, language_importance, region_choices, region_importance, climate_choices, climate_importance"
   ]
  },
  {
   "cell_type": "code",
   "execution_count": 201,
   "metadata": {},
   "outputs": [],
   "source": [
    "# Let's modify the dataframe according to user preferences and importance rankings\n",
    "\n",
    "def apply_preferences(data, language_choices, language_importance, region_choices, region_importance, climate_choices, climate_importance):\n",
    "    \"\"\"\n",
    "    Apply filtering and boosting based on user preferences for Language, Region, and Climate.\n",
    "    Safely handle cases where importance might be None.\n",
    "\n",
    "    Args:\n",
    "    data (DataFrame): The DataFrame containing university data.\n",
    "    language_choices (list): List of chosen languages in order of preference.\n",
    "    language_importance (int | None): Importance rating for language choices (1-10).\n",
    "    region_choices (list): List of chosen regions.\n",
    "    region_importance (int | None): Importance rating for region choices (1-10).\n",
    "    climate_choices (list): List of chosen climates.\n",
    "    climate_importance (int | None): Importance rating for climate choices (1-10).\n",
    "\n",
    "    Returns:\n",
    "    DataFrame: The updated DataFrame after applying preferences.\n",
    "    \"\"\"\n",
    "    # Define maximum base boosts\n",
    "    max_base_boost = 0.02  # Adjust as necessary based on typical scores in your data\n",
    "\n",
    "    # Ensure all importance ratings are integers or have a fallback value\n",
    "    language_importance = int(language_importance) if language_importance else 5\n",
    "    region_importance = int(region_importance) if region_importance else 5\n",
    "    climate_importance = int(climate_importance) if climate_importance else 5\n",
    "\n",
    "    # Calculate dynamic boosts based on importance ratings and number of choices\n",
    "    def calculate_boosts(choices, importance, max_boost):\n",
    "        boosts = [max_boost * ((len(choices) - i) / len(choices)) * (importance / 10) for i in range(len(choices))]\n",
    "        return boosts\n",
    "\n",
    "    # Apply Language preferences: Filter and boost\n",
    "    if language_choices:\n",
    "        data = data[data['Language'].isin(language_choices)]\n",
    "        language_boosts = calculate_boosts(language_choices, language_importance, max_base_boost)\n",
    "        for index, language in enumerate(language_choices):\n",
    "            if index < len(language_boosts):\n",
    "                data.loc[data['Language'] == language, 'score'] += language_boosts[index]\n",
    "\n",
    "    # Apply Region preferences: Boost without filtering\n",
    "    if region_choices:\n",
    "        region_boosts = calculate_boosts(region_choices, region_importance, max_base_boost)\n",
    "        for index, region in enumerate(region_choices):\n",
    "            data.loc[data['Region'] == region, 'score'] += region_boosts[index]\n",
    "\n",
    "    # Apply Climate preferences: Boost without filtering\n",
    "    if climate_choices:\n",
    "        climate_boosts = calculate_boosts(climate_choices, climate_importance, max_base_boost)\n",
    "        for index, climate in enumerate(climate_choices):\n",
    "            data.loc[data['Climate'] == climate, 'score'] += climate_boosts[index]\n",
    "\n",
    "    return data\n",
    "\n",
    "df = apply_preferences(df, language_choices, language_importance, region_choices, region_importance, climate_choices, climate_importance)"
   ]
  },
  {
   "cell_type": "code",
   "execution_count": 202,
   "metadata": {},
   "outputs": [
    {
     "name": "stdout",
     "output_type": "stream",
     "text": [
      "Please indicate you Exchange score: \n",
      "Here are the top 10 universities available to you:\n",
      "                           University  Max Score  Min Score\n",
      "66                 Universität Zürich      33269      32696\n",
      "64             Université de Lausanne      31898      29449\n",
      "65             Universität St. Gallen      34471      33494\n",
      "240   Singapore Management University      34665      33415\n",
      "236  Nanyang Technological University      35280      33103\n",
      "237  Nanyang Technological University      35635      32466\n",
      "111      American University in Dubai      32943      32943\n",
      "250     University of New South Wales      35112      34295\n",
      "255          The University of Sydney      34370      34370\n",
      "254          The University of Sydney      35449      31009\n",
      "None\n"
     ]
    }
   ],
   "source": [
    "# Ask for the exchange score and output the best 10 feasible recommendations\n",
    "\n",
    "def find_universities(df):\n",
    "\n",
    "    print('Please indicate you Exchange score: ')\n",
    "    \"\"\"\n",
    "    Asks the user for their Exchange score and outputs the top 10 universities \n",
    "    available to them, sorted by 'score' in descending order, displaying only the\n",
    "    university name and the minimum and maximum Exchange score requirements.\n",
    "\n",
    "    Args:\n",
    "    df (DataFrame): The DataFrame containing university data with columns for 'score',\n",
    "                    'Min Exchange Score Requirement', and 'Max Exchange Score Requirement'.\n",
    "\n",
    "    Returns:\n",
    "    None: Prints the filtered and formatted university data.\n",
    "    \"\"\"\n",
    "    try:\n",
    "        # Prompt the user for their Exchange score\n",
    "        user_score = float(input(\"Please enter your Exchange score: \"))\n",
    "\n",
    "        # Filter the DataFrame for universities where the user's score meets the requirement\n",
    "        available_universities = df[df['Min Score'] <= user_score]\n",
    "\n",
    "        # Sort these universities by 'score' in descending order and select the top 10\n",
    "        top_universities = available_universities.sort_values(by='score', ascending=False).head(10)\n",
    "\n",
    "        # Check if there are universities available\n",
    "        if top_universities.empty:\n",
    "            print(\"No universities available based on your Exchange score.\")\n",
    "        else:\n",
    "            print(\"Here are the top 10 universities available to you:\")\n",
    "            # Select and print only the relevant columns\n",
    "            print(top_universities[['University', 'Max Score', 'Min Score']])\n",
    "    except ValueError:\n",
    "        print(\"Invalid input. Please enter a valid number for your Exchange score.\")\n",
    "\n",
    "    \n",
    "top_universities = find_universities(df)\n",
    "print(top_universities)"
   ]
  },
  {
   "cell_type": "code",
   "execution_count": 203,
   "metadata": {},
   "outputs": [],
   "source": [
    "# altre cose da fare: chiedere corso e scremare in base a quello"
   ]
  },
  {
   "cell_type": "code",
   "execution_count": null,
   "metadata": {},
   "outputs": [],
   "source": []
  }
 ],
 "metadata": {
  "kernelspec": {
   "display_name": "base",
   "language": "python",
   "name": "python3"
  },
  "language_info": {
   "codemirror_mode": {
    "name": "ipython",
    "version": 3
   },
   "file_extension": ".py",
   "mimetype": "text/x-python",
   "name": "python",
   "nbconvert_exporter": "python",
   "pygments_lexer": "ipython3",
   "version": "3.10.9"
  },
  "orig_nbformat": 4
 },
 "nbformat": 4,
 "nbformat_minor": 2
}
